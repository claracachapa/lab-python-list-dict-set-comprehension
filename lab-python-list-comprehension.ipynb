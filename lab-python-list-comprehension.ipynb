{
 "cells": [
  {
   "cell_type": "markdown",
   "id": "25d7736c-ba17-4aff-b6bb-66eba20fbf4e",
   "metadata": {},
   "source": [
    "# Lab | List, Dict and Set Comprehension"
   ]
  },
  {
   "cell_type": "markdown",
   "id": "7dd3cbde-675a-4b81-92c3-f728846dbe06",
   "metadata": {},
   "source": [
    "## Exercise: Managing Customer Orders Optimized with Comprehension"
   ]
  },
  {
   "cell_type": "markdown",
   "id": "5d500160-2fb7-4777-b5e4-09d45ebaf328",
   "metadata": {},
   "source": [
    "In the previous exercise, you developed a program to manage customer orders and inventory. Now, let's take it a step further and incorporate comprehension into your code.\n",
    "\n",
    "Follow the steps below to complete the exercise:\n",
    "\n",
    "1. Review your code from the previous exercise and identify areas where you can apply comprehension to simplify and streamline your code. \n",
    "\n",
    "    - *Hint: Apply it to initialize inventory, updating the inventory and printing the updated inventory.*\n",
    "    \n",
    "    - For example, in initializing the inventory, we could have:\n",
    "    \n",
    "        ```python\n",
    "        def initialize_inventory(products):\n",
    "            inventory = {product: int(input(f\"Enter the quantity of {product}s available: \")) for product in products}\n",
    "            return inventory\n",
    "\n",
    "        ```\n",
    "<br>\n",
    "    \n",
    "    \n",
    "2. Modify the function get_customer_orders so it prompts the user to enter the number of customer orders and gathers the product names using a loop and user input. Use comprehension.\n",
    "\n",
    "3. Add a new function to calculate the total price of the customer order. For each product in customer_orders, prompt the user to enter the price of that product. Use comprehension to calculate the total price. Note: assume that the user can only have 1 unit of each product.\n",
    "\n",
    "4. Modify the update_inventory function to remove the product from the inventory if its quantity becomes zero after fulfilling the customer orders. Use comprehension to filter out the products with a quantity of zero from the inventory.\n",
    "\n",
    "5. Print the total price of the customer order.\n",
    "\n",
    "Your code should produce output similar to the following:\n",
    "\n",
    "```python\n",
    "Enter the quantity of t-shirts available:  5\n",
    "Enter the quantity of mugs available:  4\n",
    "Enter the quantity of hats available:  3\n",
    "Enter the quantity of books available:  2\n",
    "Enter the quantity of keychains available:  1\n",
    "Enter the number of customer orders:  2\n",
    "Enter the name of a product that a customer wants to order:  hat\n",
    "Enter the name of a product that a customer wants to order:  keychain\n",
    "\n",
    "Order Statistics:\n",
    "Total Products Ordered: 2\n",
    "Percentage of Unique Products Ordered: 40.0\n",
    "\n",
    "Updated Inventory:\n",
    "t-shirt: 5\n",
    "mug: 4\n",
    "hat: 2\n",
    "book: 2\n",
    "Enter the price of keychain:  5\n",
    "Enter the price of hat:  10\n",
    "Total Price: 15.0\n",
    "\n",
    "```\n"
   ]
  },
  {
   "cell_type": "code",
   "execution_count": 56,
   "id": "ef655f3f-0892-4cf8-8d69-d944517f1d50",
   "metadata": {},
   "outputs": [],
   "source": [
    "products = ['t-shirt', 'mug', 'hat', 'book', 'keychain']"
   ]
  },
  {
   "cell_type": "code",
   "execution_count": 58,
   "id": "abe1418e-655a-48d3-8ddb-3bfcb208d3ff",
   "metadata": {},
   "outputs": [
    {
     "name": "stdin",
     "output_type": "stream",
     "text": [
      "Enter the quantity of t-shirts available:  5\n",
      "Enter the quantity of mugs available:  4\n",
      "Enter the quantity of hats available:  3\n",
      "Enter the quantity of books available:  2\n",
      "Enter the quantity of keychains available:  1\n"
     ]
    },
    {
     "data": {
      "text/plain": [
       "{'t-shirt': 5, 'mug': 4, 'hat': 3, 'book': 2, 'keychain': 1}"
      ]
     },
     "execution_count": 58,
     "metadata": {},
     "output_type": "execute_result"
    }
   ],
   "source": [
    "def initialize_inventory(products):\n",
    "    inventory = {product: int(input(f\"Enter the quantity of {product}s available: \")) for product in products}\n",
    "    return inventory"
   ]
  },
  {
   "cell_type": "code",
   "execution_count": 78,
   "id": "2d69cc96-0737-4fb4-9611-15c462a98df6",
   "metadata": {},
   "outputs": [
    {
     "name": "stdin",
     "output_type": "stream",
     "text": [
      "How many products would you like to order?  2\n",
      "Product name 1:  hat\n",
      "Product name 2:  keychain\n"
     ]
    }
   ],
   "source": [
    "def get_customer_orders():\n",
    "    try:\n",
    "        num_orders = int(input(\"How many products would you like to order? \"))\n",
    "    except ValueError:\n",
    "        print(\"Invalid input. Please enter a number.\")\n",
    "        return set()  \n",
    "    customer_orders = {input(f\"Product name {i+1}: \").lower().strip() for i in range(num_orders)}\n",
    "    valid_orders = {order if order in products else print('This is not a valid product') for order in customer_orders}\n",
    "    \n",
    "    return valid_orders\n"
   ]
  },
  {
   "cell_type": "code",
   "execution_count": 62,
   "id": "0a7dca48-15ba-4906-8b38-5ae50b4d77cb",
   "metadata": {},
   "outputs": [
    {
     "name": "stdin",
     "output_type": "stream",
     "text": [
      "Enter the price of a keychain:  5\n",
      "Enter the price of a hat:  10\n"
     ]
    },
    {
     "name": "stdout",
     "output_type": "stream",
     "text": [
      "Total Price: 15.0\n"
     ]
    }
   ],
   "source": [
    "def calculate_total_price(customer_orders):\n",
    "    product_prices = {product: float(input(f\"Enter the price of a {product}: \")) for product in customer_orders}\n",
    "    total_price = sum(product_prices.values())\n",
    "    return print(f'Total Price: {total_price}')\n",
    "calculate_total_price(customer_orders)"
   ]
  },
  {
   "cell_type": "code",
   "execution_count": 98,
   "id": "f668b0c3-e7ab-4f71-bfaa-84fc470e23aa",
   "metadata": {
    "scrolled": true
   },
   "outputs": [
    {
     "name": "stdin",
     "output_type": "stream",
     "text": [
      "Enter the quantity of t-shirts available:  5\n",
      "Enter the quantity of mugs available:  4\n",
      "Enter the quantity of hats available:  3\n",
      "Enter the quantity of books available:  2\n",
      "Enter the quantity of keychains available:  1\n"
     ]
    },
    {
     "name": "stdout",
     "output_type": "stream",
     "text": [
      "\n",
      "Customer Orders: {'keychain', 'hat'}\n",
      "Processing order for: keychain\n",
      "keychain inventory updated, new quantity: 0\n",
      "Processing order for: hat\n",
      "hat inventory updated, new quantity: 2\n",
      "\n",
      "Updated Inventory: {'t-shirt': 5, 'mug': 4, 'hat': 2, 'book': 2}\n"
     ]
    }
   ],
   "source": [
    "def update_inventory(customer_orders, inventory):\n",
    "    print(\"\\nCustomer Orders:\", customer_orders)\n",
    "    \n",
    "    for order in customer_orders:\n",
    "        print(f\"Processing order for: {order}\")  \n",
    "        if order in inventory:\n",
    "            if inventory[order] > 0:\n",
    "                inventory[order] -= 1 \n",
    "                print(f\"{order} inventory updated, new quantity: {inventory[order]}\")\n",
    "            else:\n",
    "                print(f\"Error, {order} is not available!\")  \n",
    "        else:\n",
    "            print(f\"Error: {order} is not a valid product.\")\n",
    "    \n",
    "    inventory = {product: quantity for product, quantity in inventory.items() if quantity > 0}\n",
    "    return inventory"
   ]
  },
  {
   "cell_type": "code",
   "execution_count": 100,
   "id": "14e6d524-2a60-4608-891e-9e8eb6588cf7",
   "metadata": {},
   "outputs": [
    {
     "name": "stdout",
     "output_type": "stream",
     "text": [
      "(2, 40.0)\n"
     ]
    }
   ],
   "source": [
    "def calculate_order_statistics(customer_orders, products):\n",
    "    total_items_ordered = len(customer_orders)  \n",
    "    percentage_unique = (total_items_ordered / len(products)) * 100 \n",
    "    return total_items_ordered, percentage_unique\n",
    "    \n",
    "order_statistics = calculate_order_statistics(customer_orders, products)\n",
    "\n",
    "def print_order_statistics (order_statistics):\n",
    "    return print(order_statistics)\n"
   ]
  },
  {
   "cell_type": "code",
   "execution_count": 102,
   "id": "d6220fcd-9d14-4fe4-8f47-aa6e4f5351de",
   "metadata": {},
   "outputs": [
    {
     "name": "stdin",
     "output_type": "stream",
     "text": [
      "Enter the quantity of t-shirts available:  5\n",
      "Enter the quantity of mugs available:  4\n",
      "Enter the quantity of hats available:  3\n",
      "Enter the quantity of books available:  2\n",
      "Enter the quantity of keychains available:  1\n",
      "How many products would you like to order?  2\n",
      "Product name 1:  hat\n",
      "Product name 2:  keychain\n"
     ]
    },
    {
     "name": "stdout",
     "output_type": "stream",
     "text": [
      "(2, 40.0)\n",
      "\n",
      "Customer Orders: {'keychain', 'hat'}\n",
      "Processing order for: keychain\n",
      "keychain inventory updated, new quantity: 0\n",
      "Processing order for: hat\n",
      "hat inventory updated, new quantity: 2\n",
      "\n",
      "Updated Inventory: {'t-shirt': 5, 'mug': 4, 'hat': 2, 'book': 2}\n"
     ]
    },
    {
     "name": "stdin",
     "output_type": "stream",
     "text": [
      "Enter the price of a keychain:  5\n",
      "Enter the price of a hat:  10\n"
     ]
    },
    {
     "name": "stdout",
     "output_type": "stream",
     "text": [
      "Total Price: 15.0\n"
     ]
    }
   ],
   "source": [
    "inventory = initialize_inventory(products)\n",
    "customer_orders = get_customer_orders()\n",
    "print_order_statistics(order_statistics)\n",
    "updated_inventory = update_inventory(customer_orders, inventory)\n",
    "print(\"\\nUpdated Inventory:\", updated_inventory)\n",
    "\n",
    "calculate_total_price(customer_orders)"
   ]
  },
  {
   "cell_type": "code",
   "execution_count": null,
   "id": "96fc6c39-de43-4e01-96e6-5f4d06babdce",
   "metadata": {},
   "outputs": [],
   "source": []
  }
 ],
 "metadata": {
  "kernelspec": {
   "display_name": "Python 3 (ipykernel)",
   "language": "python",
   "name": "python3"
  },
  "language_info": {
   "codemirror_mode": {
    "name": "ipython",
    "version": 3
   },
   "file_extension": ".py",
   "mimetype": "text/x-python",
   "name": "python",
   "nbconvert_exporter": "python",
   "pygments_lexer": "ipython3",
   "version": "3.11.7"
  }
 },
 "nbformat": 4,
 "nbformat_minor": 5
}
